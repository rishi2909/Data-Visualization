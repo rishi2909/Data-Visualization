{
 "cells": [
  {
   "cell_type": "code",
   "execution_count": null,
   "id": "02e7dc8e-9984-4233-935b-d55617afea8f",
   "metadata": {},
   "outputs": [],
   "source": [
    "import plotly.graph_objects as go\n",
    "import plotly.express as px"
   ]
  },
  {
   "cell_type": "code",
   "execution_count": null,
   "id": "e0fb2694-9b3c-45f1-a522-029a4e05eda9",
   "metadata": {},
   "outputs": [],
   "source": [
    "fig = go.Figure()\n",
    "fig.add_trace(go.Scatter(x=[1,2,3,4,5], y=[1,7,8,2,3]))  # trace is use to add individual data.\n"
   ]
  },
  {
   "cell_type": "code",
   "execution_count": null,
   "id": "f1b0ac44-a2c5-4155-8de9-1fdc87b4a637",
   "metadata": {},
   "outputs": [],
   "source": [
    "fig = go.Figure()\n",
    "fig.add_trace(go.Scatter(x=[1,2,3,4,5], y=[1,7,8,2,3],mode='markers'))  # trace is use to add individual data.\n"
   ]
  },
  {
   "cell_type": "code",
   "execution_count": null,
   "id": "62751312-f9f9-4cee-9279-9a006d857202",
   "metadata": {},
   "outputs": [],
   "source": [
    "fig = go.Figure()\n",
    "fig.add_trace(go.Scatter(x=[1,2,3,4,5], y=[1,7,8,2,3],mode='lines'))  # trace is use to add individual data.\n"
   ]
  },
  {
   "cell_type": "code",
   "execution_count": null,
   "id": "38c248e6-f8e2-4fcc-ab4e-32c5e6fba9d6",
   "metadata": {},
   "outputs": [],
   "source": [
    "import seaborn as sns\n",
    "tips = sns.load_dataset(\"tips\")\n",
    "tips"
   ]
  },
  {
   "cell_type": "code",
   "execution_count": null,
   "id": "f793f78e-3794-449b-9bdf-0d6e63abe808",
   "metadata": {},
   "outputs": [],
   "source": [
    "fig = go.Figure()\n",
    "fig.add_trace(go.Scatter(x=tips['total_bill'], y=tips['tip'],mode='markers'))  "
   ]
  },
  {
   "cell_type": "code",
   "execution_count": null,
   "id": "5018bcda-19da-4df4-a9cd-03c3f36bbc3b",
   "metadata": {},
   "outputs": [],
   "source": [
    "fig = go.Figure()\n",
    "fig.add_trace(go.Bar(x=[1,2,3,4,5],y=[3,8,5,2,6]))"
   ]
  },
  {
   "cell_type": "code",
   "execution_count": null,
   "id": "7ce96d79-5a5f-4a34-8202-1b607c4f4f80",
   "metadata": {},
   "outputs": [],
   "source": [
    "fig = go.Figure()\n",
    "fig.add_trace(go.Histogram(x = tips['total_bill']))"
   ]
  },
  {
   "cell_type": "code",
   "execution_count": null,
   "id": "94238246-5c3a-4410-88ae-e3f79311593b",
   "metadata": {},
   "outputs": [],
   "source": [
    "# in tips data in coloumn size denote no.of people if we wan that size if large then also dot size is large else small.\n",
    "fig = go.Figure()\n",
    "fig.add_trace(go.Scatter(x=tips['total_bill'],y=tips['tip'],mode='markers',marker_size=tips['size']))"
   ]
  },
  {
   "cell_type": "code",
   "execution_count": null,
   "id": "e0105d0f-887c-4218-9d24-0c05b535b990",
   "metadata": {},
   "outputs": [],
   "source": [
    "# if you want to increase  the marker size so that it easily visible, we multiply it with any number\n",
    "fig = go.Figure()\n",
    "fig.add_trace(go.Scatter(x=tips['total_bill'],y=tips['tip'],mode='markers',marker_size=4*tips['size']))  "
   ]
  },
  {
   "cell_type": "code",
   "execution_count": null,
   "id": "eda80c85-85b5-41d1-8e47-8e752479d756",
   "metadata": {},
   "outputs": [],
   "source": [
    "fig = go.Figure()\n",
    "fig.add_trace(go.Scatter3d(x=tips['total_bill'],y=tips['tip'],mode='markers',marker_size = 10*tips['size'],z=tips['size']))"
   ]
  },
  {
   "cell_type": "code",
   "execution_count": null,
   "id": "4af384aa-4ea9-4cd4-acd8-b41899a1bbaf",
   "metadata": {},
   "outputs": [],
   "source": [
    "fig = go.Figure()\n",
    "fig.add_trace(go.Scatter3d(x=[1,2,3,4,5],y=[6,7,8,9,10],mode='lines',z=[1,2,7,3,5]))"
   ]
  },
  {
   "cell_type": "code",
   "execution_count": null,
   "id": "e8edb0ed-c64b-464d-b635-4c7b001c9acd",
   "metadata": {},
   "outputs": [],
   "source": [
    "#using plotly express\n",
    "x = [1,2,3,4]\n",
    "y = [10,13,15,18]\n",
    "fig = px.scatter(x,y)\n",
    "fig.show()"
   ]
  },
  {
   "cell_type": "code",
   "execution_count": null,
   "id": "fb9f4c61-8e22-499f-aa26-a4c1169c79d9",
   "metadata": {},
   "outputs": [],
   "source": [
    "fig = px.line(x,y)\n",
    "fig.show()"
   ]
  },
  {
   "cell_type": "code",
   "execution_count": null,
   "id": "9e4afc01-09e1-477c-a5fe-fd607a79a8d2",
   "metadata": {},
   "outputs": [],
   "source": [
    "x = ['A','B','C','D','E']\n",
    "y = [1,2,3,4,5]\n",
    "fig = px.bar(x=x,y=y)\n",
    "fig.show()"
   ]
  },
  {
   "cell_type": "code",
   "execution_count": null,
   "id": "182c1e03-0fa9-472d-afbf-dcedcbffc662",
   "metadata": {},
   "outputs": [],
   "source": [
    "x = [5,10,3,4,5,5,6,6,10,10,3,11,11,12]\n",
    "fig = px.histogram(x)\n",
    "fig.show()"
   ]
  },
  {
   "cell_type": "code",
   "execution_count": null,
   "id": "75f5ca7e-ed1d-43db-bd3f-6ffdcc708103",
   "metadata": {},
   "outputs": [],
   "source": [
    "x = ['A','B','C']\n",
    "y = [1,2,3,4,5]\n",
    "fig = px.box(x,y)\n",
    "fig.show()"
   ]
  },
  {
   "cell_type": "code",
   "execution_count": null,
   "id": "e2e02905-de50-42a4-b190-ce23253f2040",
   "metadata": {},
   "outputs": [],
   "source": [
    "# if you want to see outliers\n",
    "x = ['A','B','C','D','E']\n",
    "y = [1,2,3,4,5,100]\n",
    "fig = px.box(x,y)\n",
    "fig.show()"
   ]
  },
  {
   "cell_type": "code",
   "execution_count": null,
   "id": "85a52f65-46d2-4687-aa55-e8a58c99d865",
   "metadata": {},
   "outputs": [],
   "source": [
    "data = [[1,2,3],[4,5,6],[7,8,9]]\n",
    "px.imshow(data)"
   ]
  },
  {
   "cell_type": "code",
   "execution_count": null,
   "id": "dbc2cd2d-6494-447d-9322-fa436d779f1f",
   "metadata": {},
   "outputs": [],
   "source": [
    "#bubble chart\n",
    "x = [1,2,3,4]\n",
    "y = [5,8,12,3]\n",
    "\n",
    "fig = px.scatter(x=x,y=y,size=[13,10,15,200])\n",
    "fig.show()"
   ]
  },
  {
   "cell_type": "code",
   "execution_count": null,
   "id": "8efec43c-4ed7-43a1-8bf2-d5b8501ba76b",
   "metadata": {},
   "outputs": [],
   "source": [
    "#3d value\n",
    "#bubble chart\n",
    "x = [1,2,3,4]\n",
    "y = [5,8,12,3]\n",
    "z = [3,4,5,6]\n",
    "fig = px.scatter_3d(x=x,y=y,z=z,size=[13,10,15,200])\n",
    "fig.show()"
   ]
  },
  {
   "cell_type": "code",
   "execution_count": null,
   "id": "2ecaf24a-412f-4e98-bef2-b15fa60f8c04",
   "metadata": {},
   "outputs": [],
   "source": [
    "#comtnour plot\n",
    "x = [1,2,3,4,3,23,80]\n",
    "y = [5,8,12,3,12,35,60]\n",
    "\n",
    "fig = px.density_contour(x=x, y=y)\n",
    "#fig.add_trace(go.Scatter(x=x, y=y, mode=\"markers\", marker=dict(color=\"red\", size=8))) this line is use to see the points in density region.\n",
    "fig.show()"
   ]
  }
 ],
 "metadata": {
  "kernelspec": {
   "display_name": "Python 3 (ipykernel)",
   "language": "python",
   "name": "python3"
  },
  "language_info": {
   "codemirror_mode": {
    "name": "ipython",
    "version": 3
   },
   "file_extension": ".py",
   "mimetype": "text/x-python",
   "name": "python",
   "nbconvert_exporter": "python",
   "pygments_lexer": "ipython3",
   "version": "3.12.1"
  }
 },
 "nbformat": 4,
 "nbformat_minor": 5
}
